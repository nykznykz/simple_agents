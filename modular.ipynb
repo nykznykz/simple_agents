{
 "cells": [
  {
   "cell_type": "code",
   "execution_count": 1,
   "id": "3c341623-95d2-41bb-bacd-9b9d6b06294d",
   "metadata": {},
   "outputs": [
    {
     "name": "stdout",
     "output_type": "stream",
     "text": [
      "[WebSearchTool] Querying DuckDuckGo: what is today's date\n",
      "\n",
      "Assistant: Okay, today is Friday, April 4th, 2025! The time is 5:11 PM and it’s currently marked as -0400 time.\n",
      "\n"
     ]
    }
   ],
   "source": [
    "from coordinator_assistant import CoordinatorAssistant\n",
    "\n",
    "assistant = CoordinatorAssistant()\n",
    "\n",
    "user_input = 'What is the date today?'\n",
    "\n",
    "try:\n",
    "    response = assistant.run(user_input)\n",
    "    print(f\"\\nAssistant: {response}\\n\")\n",
    "except Exception as e:\n",
    "    print(f\"[Error] {e}\")"
   ]
  },
  {
   "cell_type": "code",
   "execution_count": 2,
   "id": "56cd1275-1b3a-47bc-a91c-bb63a04d7224",
   "metadata": {},
   "outputs": [
    {
     "data": {
      "text/plain": [
       "'greet'"
      ]
     },
     "execution_count": 2,
     "metadata": {},
     "output_type": "execute_result"
    }
   ],
   "source": [
    "assistant.route('hi im john')"
   ]
  },
  {
   "cell_type": "code",
   "execution_count": 3,
   "id": "982e09b6-356c-4a86-a96c-c0bdb652becb",
   "metadata": {},
   "outputs": [
    {
     "data": {
      "text/plain": [
       "'websearch'"
      ]
     },
     "execution_count": 3,
     "metadata": {},
     "output_type": "execute_result"
    }
   ],
   "source": [
    "assistant.route(\"What is the weather today?\")"
   ]
  },
  {
   "cell_type": "code",
   "execution_count": 4,
   "id": "d6acdd75-859e-4055-9ce0-238938da6394",
   "metadata": {},
   "outputs": [
    {
     "data": {
      "text/plain": [
       "'websearch'"
      ]
     },
     "execution_count": 4,
     "metadata": {},
     "output_type": "execute_result"
    }
   ],
   "source": [
    "assistant.route(\"What is the date today?\")"
   ]
  },
  {
   "cell_type": "code",
   "execution_count": null,
   "id": "8988033a-a743-4b08-9323-376f4c84b2ee",
   "metadata": {},
   "outputs": [],
   "source": []
  }
 ],
 "metadata": {
  "kernelspec": {
   "display_name": "Python 3 (ipykernel)",
   "language": "python",
   "name": "python3"
  },
  "language_info": {
   "codemirror_mode": {
    "name": "ipython",
    "version": 3
   },
   "file_extension": ".py",
   "mimetype": "text/x-python",
   "name": "python",
   "nbconvert_exporter": "python",
   "pygments_lexer": "ipython3",
   "version": "3.10.16"
  }
 },
 "nbformat": 4,
 "nbformat_minor": 5
}
