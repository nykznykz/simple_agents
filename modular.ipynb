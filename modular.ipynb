{
 "cells": [
  {
   "cell_type": "code",
   "execution_count": 3,
   "id": "3c341623-95d2-41bb-bacd-9b9d6b06294d",
   "metadata": {},
   "outputs": [
    {
     "name": "stdout",
     "output_type": "stream",
     "text": [
      "Hello, john!\n",
      "nhoj\n",
      "\n",
      "Assistant: Hi John! It’s nice to meet you. I also noticed your name spelled backwards is “nhoj”.\n",
      "\n"
     ]
    }
   ],
   "source": [
    "from coordinator_assistant import CoordinatorAssistant\n",
    "\n",
    "assistant = CoordinatorAssistant()\n",
    "\n",
    "user_input = 'hi im john'\n",
    "\n",
    "try:\n",
    "    response = assistant.run(user_input)\n",
    "    print(f\"\\nAssistant: {response}\\n\")\n",
    "except Exception as e:\n",
    "    print(f\"[Error] {e}\")"
   ]
  },
  {
   "cell_type": "code",
   "execution_count": null,
   "id": "56cd1275-1b3a-47bc-a91c-bb63a04d7224",
   "metadata": {},
   "outputs": [],
   "source": []
  }
 ],
 "metadata": {
  "kernelspec": {
   "display_name": "Python 3 (ipykernel)",
   "language": "python",
   "name": "python3"
  },
  "language_info": {
   "codemirror_mode": {
    "name": "ipython",
    "version": 3
   },
   "file_extension": ".py",
   "mimetype": "text/x-python",
   "name": "python",
   "nbconvert_exporter": "python",
   "pygments_lexer": "ipython3",
   "version": "3.10.16"
  }
 },
 "nbformat": 4,
 "nbformat_minor": 5
}
